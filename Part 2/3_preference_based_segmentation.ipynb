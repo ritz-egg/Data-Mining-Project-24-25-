{
 "cells": [
  {
   "cell_type": "markdown",
   "metadata": {},
   "source": [
    "<div style=\"text-align: center; margin: auto; background:#b4cc3d; padding:10px; color:white; font-family:Calibri ;\">\n",
    "    <img src=\"https://encrypted-tbn0.gstatic.com/images?q=tbn:ANd9GcTaJWG7PzF3toxaRMB1-JicpqMgJuEXATd0fg&\" style=\"width:120px; padding-top: 20px;\">\n",
    "    <h1  style=\"font-size:2.8rem\">Data Mining Project: ABCDEats Customer Data</h1>\n",
    "    <h2  style=\"font-size:2rem\">Preference Based Segmentation</h2>\n",
    "    <p style='font-size:1.2rem;'>NOVA Information Management School </p>    \n",
    "    <p style='font-size:1.2rem;'>Master in Data Science and Advanced Analytics</p>    \n",
    "    <img src=\"https://cdni.iconscout.com/illustration/premium/thumb/food-delivery-service-by-scooter-illustration-download-in-svg-png-gif-file-formats--on-pack-e-commerce-shopping-illustrations-4403764.png\" style=\"width:33rem;\">\n",
    "    <p style='font-size:1.3rem; padding:0; margin:0; font-weight:bold;'>Group 41 members:</p>\n",
    "    <ul style='font-size:1.2rem; list-style-position: inside; padding-left:0; border:none;'>\n",
    "        <li>Elcano Gaspar (20241021)</li>\n",
    "        <li>Gasper Pereira (20230984)</li>\n",
    "        <li>Pedro Costa (20222121)</li>\n",
    "        <li>Rita Wang (20240551)</li>\n",
    "    </ul> \n",
    "    <br>\n",
    "    <p style='font-size:1.2rem; '>      Fall/Spring Semester 2024-2025</p>\n",
    "</div>"
   ]
  },
  {
   "cell_type": "markdown",
   "metadata": {},
   "source": [
    "<h1>0. Imports and Dataset Loading</h1>"
   ]
  },
  {
   "cell_type": "code",
   "execution_count": 1,
   "metadata": {},
   "outputs": [],
   "source": [
    "import pandas as pd\n",
    "import numpy as np\n",
    "import math\n",
    "\n",
    "import seaborn as sns\n",
    "import matplotlib.pyplot as plt\n",
    "import matplotlib.gridspec as gridspec\n",
    "\n",
    "import warnings\n",
    "\n",
    "from functions import * \n"
   ]
  },
  {
   "cell_type": "code",
   "execution_count": 4,
   "metadata": {},
   "outputs": [],
   "source": [
    "df = pd.read_csv(\"PREPROCESSED_DATASET.csv\")"
   ]
  }
 ],
 "metadata": {
  "kernelspec": {
   "display_name": "Python 3",
   "language": "python",
   "name": "python3"
  },
  "language_info": {
   "codemirror_mode": {
    "name": "ipython",
    "version": 3
   },
   "file_extension": ".py",
   "mimetype": "text/x-python",
   "name": "python",
   "nbconvert_exporter": "python",
   "pygments_lexer": "ipython3",
   "version": "3.12.2"
  }
 },
 "nbformat": 4,
 "nbformat_minor": 2
}
